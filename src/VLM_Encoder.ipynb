{
 "cells": [
  {
   "cell_type": "code",
   "execution_count": 1,
   "id": "f4d7a5b0-b228-4193-8a42-197c5adeb85e",
   "metadata": {},
   "outputs": [
    {
     "name": "stdout",
     "output_type": "stream",
     "text": [
      "Tue Oct 31 17:35:39 2023       \n",
      "+---------------------------------------------------------------------------------------+\n",
      "| NVIDIA-SMI 535.98                 Driver Version: 535.98       CUDA Version: 12.2     |\n",
      "|-----------------------------------------+----------------------+----------------------+\n",
      "| GPU  Name                 Persistence-M | Bus-Id        Disp.A | Volatile Uncorr. ECC |\n",
      "| Fan  Temp   Perf          Pwr:Usage/Cap |         Memory-Usage | GPU-Util  Compute M. |\n",
      "|                                         |                      |               MIG M. |\n",
      "|=========================================+======================+======================|\n",
      "|   0  NVIDIA GeForce RTX 2080 Ti     Off | 00000000:1A:00.0 Off |                  N/A |\n",
      "| 22%   23C    P8              11W / 250W |      0MiB / 11264MiB |      0%      Default |\n",
      "|                                         |                      |                  N/A |\n",
      "+-----------------------------------------+----------------------+----------------------+\n",
      "|   1  NVIDIA GeForce RTX 2080 Ti     Off | 00000000:3E:00.0 Off |                  N/A |\n",
      "| 22%   22C    P8               9W / 250W |      0MiB / 11264MiB |      0%      Default |\n",
      "|                                         |                      |                  N/A |\n",
      "+-----------------------------------------+----------------------+----------------------+\n",
      "|   2  NVIDIA GeForce RTX 2080 Ti     Off | 00000000:B2:00.0 Off |                  N/A |\n",
      "| 22%   22C    P8              13W / 250W |      0MiB / 11264MiB |      0%      Default |\n",
      "|                                         |                      |                  N/A |\n",
      "+-----------------------------------------+----------------------+----------------------+\n",
      "                                                                                         \n",
      "+---------------------------------------------------------------------------------------+\n",
      "| Processes:                                                                            |\n",
      "|  GPU   GI   CI        PID   Type   Process name                            GPU Memory |\n",
      "|        ID   ID                                                             Usage      |\n",
      "|=======================================================================================|\n",
      "|  No running processes found                                                           |\n",
      "+---------------------------------------------------------------------------------------+\n"
     ]
    }
   ],
   "source": [
    "!nvidia-smi"
   ]
  },
  {
   "cell_type": "code",
   "execution_count": 1,
   "id": "997553af-5301-4dd8-a0a5-b33bb771efbe",
   "metadata": {},
   "outputs": [
    {
     "name": "stderr",
     "output_type": "stream",
     "text": [
      "/nfshomes/canum05/miniconda3/envs/llm/lib/python3.9/site-packages/tqdm/auto.py:21: TqdmWarning: IProgress not found. Please update jupyter and ipywidgets. See https://ipywidgets.readthedocs.io/en/stable/user_install.html\n",
      "  from .autonotebook import tqdm as notebook_tqdm\n"
     ]
    }
   ],
   "source": [
    "import pickle\n",
    "import torch\n",
    "import numpy as np\n",
    "import pandas as pd   \n",
    "import os\n",
    "from pathlib import Path\n",
    "import glob\n",
    "import json\n",
    "\n",
    "import os\n",
    "\n",
    "import random\n",
    "from transformers import AutoImageProcessor, ViTModel\n",
    "import torch\n"
   ]
  },
  {
   "cell_type": "code",
   "execution_count": 46,
   "id": "42462479-5353-4b9c-87d8-d9e908a43f6d",
   "metadata": {},
   "outputs": [],
   "source": [
    "#train_dataframe and val_dataframe stores the path to the images and respective questions and answers\n",
    "lenghtData = 2000\n",
    "\n",
    "trainList=[]\n",
    "with open('/nfshomes/canum05/scratch/dataset/CLEVR_v1.0/questions/CLEVR_train_questions.json') as f:\n",
    "    data = json.load(f)\n",
    "    for K in range(lenghtData):\n",
    "        i = data['questions'][random.randrange(20, 2000, 3)]\n",
    "        temp=[]\n",
    "        for path in glob.glob('/nfshomes/canum05/scratch/dataset/CLEVR_v1.0/images/train/'+i['image_filename']): \n",
    "            temp.append(path)\n",
    "        temp.append(i['question'])\n",
    "        temp.append(i['answer'])\n",
    "        trainList.append(temp)\n",
    "f.close()\n",
    "labels=['Path','Question','Answer']\n",
    "train_dataframe = pd.DataFrame.from_records(trainList, columns=labels)#training Dataframe \n",
    "del(data)\n",
    "del(trainList)"
   ]
  },
  {
   "cell_type": "code",
   "execution_count": 47,
   "id": "aee74a64-8f5e-4aac-905a-9b564918a307",
   "metadata": {},
   "outputs": [
    {
     "data": {
      "text/html": [
       "<div>\n",
       "<style scoped>\n",
       "    .dataframe tbody tr th:only-of-type {\n",
       "        vertical-align: middle;\n",
       "    }\n",
       "\n",
       "    .dataframe tbody tr th {\n",
       "        vertical-align: top;\n",
       "    }\n",
       "\n",
       "    .dataframe thead th {\n",
       "        text-align: right;\n",
       "    }\n",
       "</style>\n",
       "<table border=\"1\" class=\"dataframe\">\n",
       "  <thead>\n",
       "    <tr style=\"text-align: right;\">\n",
       "      <th></th>\n",
       "      <th>Path</th>\n",
       "      <th>Question</th>\n",
       "      <th>Answer</th>\n",
       "    </tr>\n",
       "  </thead>\n",
       "  <tbody>\n",
       "    <tr>\n",
       "      <th>0</th>\n",
       "      <td>/nfshomes/canum05/scratch/dataset/CLEVR_v1.0/i...</td>\n",
       "      <td>How many other things are there of the same ma...</td>\n",
       "      <td>3</td>\n",
       "    </tr>\n",
       "    <tr>\n",
       "      <th>1</th>\n",
       "      <td>/nfshomes/canum05/scratch/dataset/CLEVR_v1.0/i...</td>\n",
       "      <td>The green thing that is the same size as the p...</td>\n",
       "      <td>cube</td>\n",
       "    </tr>\n",
       "    <tr>\n",
       "      <th>2</th>\n",
       "      <td>/nfshomes/canum05/scratch/dataset/CLEVR_v1.0/i...</td>\n",
       "      <td>Is there a large cube that is to the right of ...</td>\n",
       "      <td>yes</td>\n",
       "    </tr>\n",
       "    <tr>\n",
       "      <th>3</th>\n",
       "      <td>/nfshomes/canum05/scratch/dataset/CLEVR_v1.0/i...</td>\n",
       "      <td>The object that is in front of the cyan cylind...</td>\n",
       "      <td>gray</td>\n",
       "    </tr>\n",
       "    <tr>\n",
       "      <th>4</th>\n",
       "      <td>/nfshomes/canum05/scratch/dataset/CLEVR_v1.0/i...</td>\n",
       "      <td>How many rubber blocks have the same color as ...</td>\n",
       "      <td>1</td>\n",
       "    </tr>\n",
       "    <tr>\n",
       "      <th>...</th>\n",
       "      <td>...</td>\n",
       "      <td>...</td>\n",
       "      <td>...</td>\n",
       "    </tr>\n",
       "    <tr>\n",
       "      <th>1995</th>\n",
       "      <td>/nfshomes/canum05/scratch/dataset/CLEVR_v1.0/i...</td>\n",
       "      <td>How many objects are tiny metal objects or tin...</td>\n",
       "      <td>3</td>\n",
       "    </tr>\n",
       "    <tr>\n",
       "      <th>1996</th>\n",
       "      <td>/nfshomes/canum05/scratch/dataset/CLEVR_v1.0/i...</td>\n",
       "      <td>There is a tiny object in front of the tiny gr...</td>\n",
       "      <td>yes</td>\n",
       "    </tr>\n",
       "    <tr>\n",
       "      <th>1997</th>\n",
       "      <td>/nfshomes/canum05/scratch/dataset/CLEVR_v1.0/i...</td>\n",
       "      <td>What is the size of the metal sphere that is r...</td>\n",
       "      <td>large</td>\n",
       "    </tr>\n",
       "    <tr>\n",
       "      <th>1998</th>\n",
       "      <td>/nfshomes/canum05/scratch/dataset/CLEVR_v1.0/i...</td>\n",
       "      <td>The green thing that is the same size as the p...</td>\n",
       "      <td>cube</td>\n",
       "    </tr>\n",
       "    <tr>\n",
       "      <th>1999</th>\n",
       "      <td>/nfshomes/canum05/scratch/dataset/CLEVR_v1.0/i...</td>\n",
       "      <td>Is there anything else that is the same materi...</td>\n",
       "      <td>no</td>\n",
       "    </tr>\n",
       "  </tbody>\n",
       "</table>\n",
       "<p>2000 rows × 3 columns</p>\n",
       "</div>"
      ],
      "text/plain": [
       "                                                   Path  \\\n",
       "0     /nfshomes/canum05/scratch/dataset/CLEVR_v1.0/i...   \n",
       "1     /nfshomes/canum05/scratch/dataset/CLEVR_v1.0/i...   \n",
       "2     /nfshomes/canum05/scratch/dataset/CLEVR_v1.0/i...   \n",
       "3     /nfshomes/canum05/scratch/dataset/CLEVR_v1.0/i...   \n",
       "4     /nfshomes/canum05/scratch/dataset/CLEVR_v1.0/i...   \n",
       "...                                                 ...   \n",
       "1995  /nfshomes/canum05/scratch/dataset/CLEVR_v1.0/i...   \n",
       "1996  /nfshomes/canum05/scratch/dataset/CLEVR_v1.0/i...   \n",
       "1997  /nfshomes/canum05/scratch/dataset/CLEVR_v1.0/i...   \n",
       "1998  /nfshomes/canum05/scratch/dataset/CLEVR_v1.0/i...   \n",
       "1999  /nfshomes/canum05/scratch/dataset/CLEVR_v1.0/i...   \n",
       "\n",
       "                                               Question Answer  \n",
       "0     How many other things are there of the same ma...      3  \n",
       "1     The green thing that is the same size as the p...   cube  \n",
       "2     Is there a large cube that is to the right of ...    yes  \n",
       "3     The object that is in front of the cyan cylind...   gray  \n",
       "4     How many rubber blocks have the same color as ...      1  \n",
       "...                                                 ...    ...  \n",
       "1995  How many objects are tiny metal objects or tin...      3  \n",
       "1996  There is a tiny object in front of the tiny gr...    yes  \n",
       "1997  What is the size of the metal sphere that is r...  large  \n",
       "1998  The green thing that is the same size as the p...   cube  \n",
       "1999  Is there anything else that is the same materi...     no  \n",
       "\n",
       "[2000 rows x 3 columns]"
      ]
     },
     "execution_count": 47,
     "metadata": {},
     "output_type": "execute_result"
    }
   ],
   "source": [
    "train_dataframe"
   ]
  },
  {
   "cell_type": "code",
   "execution_count": 12,
   "id": "1d0da0e5-1888-4cf4-8ab3-f002af2bb680",
   "metadata": {},
   "outputs": [
    {
     "name": "stderr",
     "output_type": "stream",
     "text": [
      "Downloading (…)rocessor_config.json: 100%|██████████| 160/160 [00:00<00:00, 52.8kB/s]\n",
      "Downloading (…)lve/main/config.json: 100%|██████████| 502/502 [00:00<00:00, 195kB/s]\n",
      "Downloading pytorch_model.bin: 100%|██████████| 346M/346M [00:01<00:00, 271MB/s]  \n"
     ]
    }
   ],
   "source": [
    "image_processor = AutoImageProcessor.from_pretrained(\"google/vit-base-patch16-224-in21k\")\n",
    "model = ViTModel.from_pretrained(\"google/vit-base-patch16-224-in21k\")\n"
   ]
  },
  {
   "cell_type": "code",
   "execution_count": 54,
   "id": "e6c4af01-b50d-4623-9ebd-de892bff1e67",
   "metadata": {},
   "outputs": [],
   "source": [
    "from PIL import Image\n",
    "from tqdm import tqdm"
   ]
  },
  {
   "cell_type": "code",
   "execution_count": 55,
   "id": "66b9695a-1a65-4b59-bc74-cd3431c02d9b",
   "metadata": {},
   "outputs": [
    {
     "name": "stderr",
     "output_type": "stream",
     "text": [
      "100%|██████████| 2000/2000 [23:56<00:00,  1.39it/s]\n"
     ]
    }
   ],
   "source": [
    "\n",
    "data_list = []\n",
    "\n",
    "for index, row in tqdm(train_dataframe.iterrows(), total=len(train_dataframe)):\n",
    "    path = row['Path']\n",
    "    question = row['Question']\n",
    "    answer = row['Answer']\n",
    "\n",
    "    # Open and load the image using Pillow\n",
    "    img = Image.open(path).convert(\"RGB\")\n",
    "    inputs = image_processor(img, return_tensors=\"pt\")\n",
    "\n",
    "    with torch.no_grad():\n",
    "        outputs = model(**inputs)\n",
    "\n",
    "    embeddings = outputs.last_hidden_state.tolist()  # Convert embeddings to a list\n",
    "\n",
    "    sample_data = {\n",
    "        'image_embeddings': embeddings,\n",
    "        'question': question,\n",
    "        'answer': answer\n",
    "    }\n",
    "\n",
    "    data_list.append(sample_data)\n",
    "\n",
    "\n",
    "with open('./Data/data.json', 'w') as json_file:\n",
    "    json.dump(data_list, json_file)\n",
    "\n",
    "\n"
   ]
  },
  {
   "cell_type": "code",
   "execution_count": 3,
   "id": "5f9456d9-89d0-4a01-a275-e6345fd63a6a",
   "metadata": {},
   "outputs": [],
   "source": [
    "json_file_path = './Data/data.json'\n",
    "\n",
    "# Read the JSON file into a Pandas DataFrame\n",
    "df = pd.read_json(json_file_path)"
   ]
  },
  {
   "cell_type": "code",
   "execution_count": 4,
   "id": "bf8f314b-b602-49a0-91ff-b1808d9762e4",
   "metadata": {},
   "outputs": [
    {
     "data": {
      "text/html": [
       "<div>\n",
       "<style scoped>\n",
       "    .dataframe tbody tr th:only-of-type {\n",
       "        vertical-align: middle;\n",
       "    }\n",
       "\n",
       "    .dataframe tbody tr th {\n",
       "        vertical-align: top;\n",
       "    }\n",
       "\n",
       "    .dataframe thead th {\n",
       "        text-align: right;\n",
       "    }\n",
       "</style>\n",
       "<table border=\"1\" class=\"dataframe\">\n",
       "  <thead>\n",
       "    <tr style=\"text-align: right;\">\n",
       "      <th></th>\n",
       "      <th>image_embeddings</th>\n",
       "      <th>question</th>\n",
       "      <th>answer</th>\n",
       "    </tr>\n",
       "  </thead>\n",
       "  <tbody>\n",
       "    <tr>\n",
       "      <th>0</th>\n",
       "      <td>[[[0.359248578548431, -0.6500996351242061, -0....</td>\n",
       "      <td>How many other things are there of the same ma...</td>\n",
       "      <td>3</td>\n",
       "    </tr>\n",
       "    <tr>\n",
       "      <th>1</th>\n",
       "      <td>[[[0.11450660973787301, -0.608290016651153, -0...</td>\n",
       "      <td>The green thing that is the same size as the p...</td>\n",
       "      <td>cube</td>\n",
       "    </tr>\n",
       "    <tr>\n",
       "      <th>2</th>\n",
       "      <td>[[[0.13305327296257002, -0.573591530323028, -0...</td>\n",
       "      <td>Is there a large cube that is to the right of ...</td>\n",
       "      <td>yes</td>\n",
       "    </tr>\n",
       "    <tr>\n",
       "      <th>3</th>\n",
       "      <td>[[[0.14678417146205902, -0.359456837177276, -0...</td>\n",
       "      <td>The object that is in front of the cyan cylind...</td>\n",
       "      <td>gray</td>\n",
       "    </tr>\n",
       "    <tr>\n",
       "      <th>4</th>\n",
       "      <td>[[[0.361140221357345, -0.380545675754547, -0.3...</td>\n",
       "      <td>How many rubber blocks have the same color as ...</td>\n",
       "      <td>1</td>\n",
       "    </tr>\n",
       "    <tr>\n",
       "      <th>...</th>\n",
       "      <td>...</td>\n",
       "      <td>...</td>\n",
       "      <td>...</td>\n",
       "    </tr>\n",
       "    <tr>\n",
       "      <th>1995</th>\n",
       "      <td>[[[0.11589656025171201, -0.387044250965118, -0...</td>\n",
       "      <td>How many objects are tiny metal objects or tin...</td>\n",
       "      <td>3</td>\n",
       "    </tr>\n",
       "    <tr>\n",
       "      <th>1996</th>\n",
       "      <td>[[[0.34504896402359003, -0.582923293113708, 0....</td>\n",
       "      <td>There is a tiny object in front of the tiny gr...</td>\n",
       "      <td>yes</td>\n",
       "    </tr>\n",
       "    <tr>\n",
       "      <th>1997</th>\n",
       "      <td>[[[0.34835848212242104, -0.357507735490798, -0...</td>\n",
       "      <td>What is the size of the metal sphere that is r...</td>\n",
       "      <td>large</td>\n",
       "    </tr>\n",
       "    <tr>\n",
       "      <th>1998</th>\n",
       "      <td>[[[0.11450660973787301, -0.608290016651153, -0...</td>\n",
       "      <td>The green thing that is the same size as the p...</td>\n",
       "      <td>cube</td>\n",
       "    </tr>\n",
       "    <tr>\n",
       "      <th>1999</th>\n",
       "      <td>[[[-0.013230769895017001, -0.39871695637702903...</td>\n",
       "      <td>Is there anything else that is the same materi...</td>\n",
       "      <td>no</td>\n",
       "    </tr>\n",
       "  </tbody>\n",
       "</table>\n",
       "<p>2000 rows × 3 columns</p>\n",
       "</div>"
      ],
      "text/plain": [
       "                                       image_embeddings  \\\n",
       "0     [[[0.359248578548431, -0.6500996351242061, -0....   \n",
       "1     [[[0.11450660973787301, -0.608290016651153, -0...   \n",
       "2     [[[0.13305327296257002, -0.573591530323028, -0...   \n",
       "3     [[[0.14678417146205902, -0.359456837177276, -0...   \n",
       "4     [[[0.361140221357345, -0.380545675754547, -0.3...   \n",
       "...                                                 ...   \n",
       "1995  [[[0.11589656025171201, -0.387044250965118, -0...   \n",
       "1996  [[[0.34504896402359003, -0.582923293113708, 0....   \n",
       "1997  [[[0.34835848212242104, -0.357507735490798, -0...   \n",
       "1998  [[[0.11450660973787301, -0.608290016651153, -0...   \n",
       "1999  [[[-0.013230769895017001, -0.39871695637702903...   \n",
       "\n",
       "                                               question answer  \n",
       "0     How many other things are there of the same ma...      3  \n",
       "1     The green thing that is the same size as the p...   cube  \n",
       "2     Is there a large cube that is to the right of ...    yes  \n",
       "3     The object that is in front of the cyan cylind...   gray  \n",
       "4     How many rubber blocks have the same color as ...      1  \n",
       "...                                                 ...    ...  \n",
       "1995  How many objects are tiny metal objects or tin...      3  \n",
       "1996  There is a tiny object in front of the tiny gr...    yes  \n",
       "1997  What is the size of the metal sphere that is r...  large  \n",
       "1998  The green thing that is the same size as the p...   cube  \n",
       "1999  Is there anything else that is the same materi...     no  \n",
       "\n",
       "[2000 rows x 3 columns]"
      ]
     },
     "execution_count": 4,
     "metadata": {},
     "output_type": "execute_result"
    }
   ],
   "source": [
    "df"
   ]
  },
  {
   "cell_type": "code",
   "execution_count": 12,
   "id": "4369aa0d-7a66-4c67-b3c3-f59b410b2815",
   "metadata": {},
   "outputs": [],
   "source": [
    "emb = torch.tensor(df['image_embeddings'][0])\n"
   ]
  },
  {
   "cell_type": "code",
   "execution_count": 13,
   "id": "371eb356-5869-470b-875e-bff740808878",
   "metadata": {},
   "outputs": [
    {
     "data": {
      "text/plain": [
       "torch.Size([1, 197, 768])"
      ]
     },
     "execution_count": 13,
     "metadata": {},
     "output_type": "execute_result"
    }
   ],
   "source": [
    "emb.shape"
   ]
  },
  {
   "cell_type": "code",
   "execution_count": null,
   "id": "4a7eb261-843c-4cba-ba06-95047d356f55",
   "metadata": {},
   "outputs": [],
   "source": []
  }
 ],
 "metadata": {
  "kernelspec": {
   "display_name": "Python 3",
   "language": "python",
   "name": "python3"
  },
  "language_info": {
   "codemirror_mode": {
    "name": "ipython",
    "version": 3
   },
   "file_extension": ".py",
   "mimetype": "text/x-python",
   "name": "python",
   "nbconvert_exporter": "python",
   "pygments_lexer": "ipython3",
   "version": "3.9.18"
  }
 },
 "nbformat": 4,
 "nbformat_minor": 5
}
